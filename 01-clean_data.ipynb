{
 "cells": [
  {
   "cell_type": "code",
   "execution_count": 17,
   "metadata": {
    "scrolled": true
   },
   "outputs": [
    {
     "name": "stdout",
     "output_type": "stream",
     "text": [
      "Bird Species  <object>\n",
      "Distance Bin  <object>\n",
      "Date          <object>\n",
      "Time          <object>\n",
      "Coordinates   <object>\n",
      "Location      <object>\n",
      "Habitat Type  <object>\n",
      "Time Period   <object>\n",
      "Group Name    <object>\n",
      "Remarks       <object>\n"
     ]
    }
   ],
   "source": [
    "import hashlib\n",
    "import pandas as pd\n",
    "\n",
    "raw_csv = pd.read_csv('raw_data.csv')\n",
    "max_colname_len = max(\n",
    "    [len(col) for col in raw_csv.columns.values]\n",
    ")\n",
    "for col in raw_csv.columns.values:\n",
    "    print('{:{}}<{}>'.format(\n",
    "        col, max_colname_len+2, raw_csv[col].dtype)\n",
    "    )"
   ]
  },
  {
   "cell_type": "code",
   "execution_count": 18,
   "metadata": {},
   "outputs": [
    {
     "name": "stdout",
     "output_type": "stream",
     "text": [
      "Number of Unique Locations: 208\n",
      "Number of Unique Coordinates: 271\n"
     ]
    }
   ],
   "source": [
    "num_locations = len(set(raw_csv['Location']))\n",
    "num_coords = len(set(raw_csv['Coordinates']))\n",
    "print('Number of Unique Locations: {}'.format(num_locations))\n",
    "print('Number of Unique Coordinates: {}'.format(num_coords))"
   ]
  },
  {
   "cell_type": "markdown",
   "metadata": {},
   "source": [
    "First of all, we need to be able to clearly distinguish survey sites. As from the cell directly above, we cannot reliably use either the number of unique locations or coordinates in order to do this.\n",
    "\n",
    "Instead, we will use both. Going through the list from the first to last row, _adjacent_ rows with identical locations **or** coordinate values will be grouped together as one survey site. Each survey site is identifed with a hash generated from the cocatenated string of its first row's location plus coordinate."
   ]
  },
  {
   "cell_type": "code",
   "execution_count": 19,
   "metadata": {},
   "outputs": [],
   "source": [
    "csv_unique_surveys = pd.DataFrame()\n",
    "lagging_pointer = {'Location': None, 'Coordinates': None}\n",
    "\n",
    "for _, row in raw_csv.iterrows():\n",
    "    ..."
   ]
  }
 ],
 "metadata": {
  "kernelspec": {
   "display_name": "Python 3",
   "language": "python",
   "name": "python3"
  },
  "language_info": {
   "codemirror_mode": {
    "name": "ipython",
    "version": 3
   },
   "file_extension": ".py",
   "mimetype": "text/x-python",
   "name": "python",
   "nbconvert_exporter": "python",
   "pygments_lexer": "ipython3",
   "version": "3.5.3"
  }
 },
 "nbformat": 4,
 "nbformat_minor": 2
}
